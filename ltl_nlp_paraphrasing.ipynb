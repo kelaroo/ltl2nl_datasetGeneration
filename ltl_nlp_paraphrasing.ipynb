{
 "cells": [
  {
   "cell_type": "code",
   "execution_count": null,
   "id": "0e10c8a3-a052-4c79-80fe-25c06b25e29f",
   "metadata": {},
   "outputs": [],
   "source": [
    "# import and setup gemini\n",
    "import json\n",
    "from dotenv import load_dotenv\n",
    "import os\n",
    "from google import genai\n",
    "\n",
    "import dataset_manager\n",
    "\n",
    "# api key must be stored inside a file called .env with the following contents: GEMINI_API_KEY=<your_key_here>\n",
    "load_dotenv()\n",
    "client = genai.Client(api_key=os.getenv(\"GEMINI_API_KEY\"))"
   ]
  },
  {
   "cell_type": "code",
   "execution_count": null,
   "id": "6d0e84c5-a443-4e3d-98d2-e9f989d896ff",
   "metadata": {},
   "outputs": [],
   "source": [
    "# load the dataset from a json file\n",
    "dataset = dataset_manager.load_dataset(\"dataset_iter1.json\")"
   ]
  },
  {
   "cell_type": "code",
   "execution_count": null,
   "id": "627cd9ef-465f-4af5-8730-4c687ae2e189",
   "metadata": {},
   "outputs": [],
   "source": [
    "# reload incase the PROMPT was modified or anything else in dataset_manager.py\n",
    "import importlib\n",
    "importlib.reload(dataset_manager)\n",
    "\n",
    "for entry in dataset:\n",
    "    # format prompt to include the equivalent ltl formulas and already generated translations for reference \n",
    "    prompt = dataset_manager.create_prompt(entry)\n",
    "\n",
    "    # structure output as a list of strings in the json format\n",
    "    response = client.models.generate_content(\n",
    "        model=\"gemini-2.0-flash-lite\",\n",
    "        contents = prompt,\n",
    "        config={\n",
    "            'response_mime_type': 'application/json',\n",
    "            'response_schema': list[str],\n",
    "        },\n",
    "    )\n",
    "\n",
    "    generated_data = json.loads(response.text)\n",
    "    entry[\"nlp\"] += generated_data\n",
    "\n",
    "    print(response.text)\n",
    "print(\"Done generating data\")"
   ]
  },
  {
   "cell_type": "code",
   "execution_count": null,
   "id": "22be78bb-0824-4ace-9ea0-8b9f8b848ac5",
   "metadata": {},
   "outputs": [],
   "source": [
    "dataset_manager.save_dataset(dataset, \"dataset_iter2.json\")"
   ]
  }
 ],
 "metadata": {
  "kernelspec": {
   "display_name": "Python 3 (ipykernel)",
   "language": "python",
   "name": "python3"
  },
  "language_info": {
   "codemirror_mode": {
    "name": "ipython",
    "version": 3
   },
   "file_extension": ".py",
   "mimetype": "text/x-python",
   "name": "python",
   "nbconvert_exporter": "python",
   "pygments_lexer": "ipython3",
   "version": "3.12.4"
  }
 },
 "nbformat": 4,
 "nbformat_minor": 5
}
